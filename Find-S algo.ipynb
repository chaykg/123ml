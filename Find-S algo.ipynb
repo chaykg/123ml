{
 "cells": [
  {
   "cell_type": "code",
   "execution_count": 9,
   "id": "957e0ec9",
   "metadata": {},
   "outputs": [
    {
     "name": "stdout",
     "output_type": "stream",
     "text": [
      "     sky airTemp humidity    wind water forecast enjoySport\n",
      "0  sunny    warm   normal  strong  warm     same        yes\n",
      "1  sunny    warm     high  strong  warm     same        yes\n",
      "2  rainy    cold     high  strong  warm   change         no\n",
      "3  sunny    warm     high  strong  cool   change        yes\n",
      "\n",
      "The total number of training instances are: 5\n",
      "\n",
      "The initial hypothesis is:\n",
      "['0', '0', '0', '0', '0', '0']\n",
      "\n",
      "The hypothesis for training instance 2 is: \n",
      " ['sunny', 'warm', 'normal', 'strong', 'warm', 'same']\n",
      "\n",
      "The hypothesis for training instance 3 is: \n",
      " ['sunny', 'warm', '?', 'strong', 'warm', 'same']\n",
      "\n",
      "The hypothesis for training instance 5 is: \n",
      " ['sunny', 'warm', '?', 'strong', '?', '?']\n",
      "\n",
      "The maximally specific hypothesis for the training instances is:\n",
      "['sunny', 'warm', '?', 'strong', '?', '?']\n"
     ]
    }
   ],
   "source": [
    "import csv\n",
    "import pandas as pd\n",
    "\n",
    "a=[]\n",
    "d = pd.read_csv('EnjoySport.csv')\n",
    "print(d)\n",
    "\n",
    "\n",
    "with open('EnjoySport.csv', 'r') as csvfile:\n",
    "    for row in csv.reader(csvfile):\n",
    "        a.append(row)\n",
    "        \n",
    "print(\"\\nThe total number of training instances are:\", len(a))\n",
    "num_attribute = len(a[0]) - 1\n",
    "print(\"\\nThe initial hypothesis is:\")\n",
    "hypothesis = ['0'] * num_attribute\n",
    "print(hypothesis)\n",
    "for i in range(1, len(a)): \n",
    "    if a[i][num_attribute] == 'yes':\n",
    "        for j in range(num_attribute):\n",
    "            if hypothesis[j] == '0' or hypothesis[j] == a[i][j]:\n",
    "                hypothesis[j] = a[i][j]\n",
    "            else:\n",
    "                hypothesis[j] = '?'\n",
    "        print(\"\\nThe hypothesis for training instance {} is: \\n\".format(i+1),hypothesis)\n",
    "\n",
    "print(\"\\nThe maximally specific hypothesis for the training instances is:\")\n",
    "print(hypothesis)\n"
   ]
  },
  {
   "cell_type": "code",
   "execution_count": null,
   "id": "d723040b",
   "metadata": {},
   "outputs": [],
   "source": []
  },
  {
   "cell_type": "code",
   "execution_count": null,
   "id": "7143b541",
   "metadata": {},
   "outputs": [],
   "source": []
  }
 ],
 "metadata": {
  "kernelspec": {
   "display_name": "Python 3 (ipykernel)",
   "language": "python",
   "name": "python3"
  },
  "language_info": {
   "codemirror_mode": {
    "name": "ipython",
    "version": 3
   },
   "file_extension": ".py",
   "mimetype": "text/x-python",
   "name": "python",
   "nbconvert_exporter": "python",
   "pygments_lexer": "ipython3",
   "version": "3.9.7"
  }
 },
 "nbformat": 4,
 "nbformat_minor": 5
}
